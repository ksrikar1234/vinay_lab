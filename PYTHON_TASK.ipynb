{
 "cells": [
  {
   "cell_type": "markdown",
   "id": "5c85b85f",
   "metadata": {},
   "source": [
    "## USE PYTHON'S PANDAS AND NUMPY LIBRARIES"
   ]
  },
  {
   "cell_type": "markdown",
   "id": "75fad34c",
   "metadata": {},
   "source": [
    "### Write the code to import data"
   ]
  },
  {
   "cell_type": "code",
   "execution_count": null,
   "id": "1d9130f0",
   "metadata": {},
   "outputs": [],
   "source": []
  },
  {
   "cell_type": "markdown",
   "id": "7589faf9",
   "metadata": {},
   "source": [
    "### List Out all columns of dataset"
   ]
  },
  {
   "cell_type": "code",
   "execution_count": null,
   "id": "de645937",
   "metadata": {},
   "outputs": [],
   "source": []
  },
  {
   "cell_type": "markdown",
   "id": "71cd5559",
   "metadata": {},
   "source": [
    "### Print shape of dataset"
   ]
  },
  {
   "cell_type": "code",
   "execution_count": null,
   "id": "531d0cf4",
   "metadata": {},
   "outputs": [],
   "source": []
  },
  {
   "cell_type": "markdown",
   "id": "44801164",
   "metadata": {},
   "source": [
    "### Print  Number of Null values in each input variable"
   ]
  },
  {
   "cell_type": "code",
   "execution_count": null,
   "id": "0eabef91",
   "metadata": {},
   "outputs": [],
   "source": []
  },
  {
   "cell_type": "markdown",
   "id": "f974207b",
   "metadata": {},
   "source": [
    "### Convert Date-time values of Start_date and end_date to date-time format of pandas"
   ]
  },
  {
   "cell_type": "code",
   "execution_count": null,
   "id": "ddb40062",
   "metadata": {},
   "outputs": [],
   "source": []
  },
  {
   "cell_type": "markdown",
   "id": "d463b1e3",
   "metadata": {},
   "source": [
    "### Select START*,STOP*,MILES* Columns"
   ]
  },
  {
   "cell_type": "code",
   "execution_count": null,
   "id": "652ab829",
   "metadata": {},
   "outputs": [],
   "source": []
  },
  {
   "cell_type": "markdown",
   "id": "73011f71",
   "metadata": {},
   "source": [
    "### Select START* ,STOP* Locations which have distance above 60 Miles"
   ]
  },
  {
   "cell_type": "code",
   "execution_count": null,
   "id": "9749676a",
   "metadata": {},
   "outputs": [],
   "source": []
  },
  {
   "cell_type": "markdown",
   "id": "d745b591",
   "metadata": {},
   "source": [
    "### Select the record which is having start location as NewYork"
   ]
  },
  {
   "cell_type": "code",
   "execution_count": null,
   "id": "0b971d4c",
   "metadata": {},
   "outputs": [],
   "source": []
  },
  {
   "cell_type": "markdown",
   "id": "e98c1cd7",
   "metadata": {},
   "source": [
    "### Select the records which have Miles value above 10 and Start  location as 'cary' or'Morrisville'"
   ]
  },
  {
   "cell_type": "code",
   "execution_count": null,
   "id": "23a4d10c",
   "metadata": {},
   "outputs": [],
   "source": []
  },
  {
   "cell_type": "markdown",
   "id": "054008e9",
   "metadata": {},
   "source": [
    "### Sort dataset based on Miles values"
   ]
  },
  {
   "cell_type": "code",
   "execution_count": null,
   "id": "31f29714",
   "metadata": {},
   "outputs": [],
   "source": []
  },
  {
   "cell_type": "markdown",
   "id": "ebb66cc6",
   "metadata": {},
   "source": [
    "### Create a new column which takes values 'shorttrip' for records having Miles value less than 10 and 'LongTrip' for records having Miles value greater than 50 and 'MediumTrip' for records having miles value greater than 60"
   ]
  },
  {
   "cell_type": "code",
   "execution_count": null,
   "id": "ba998a69",
   "metadata": {},
   "outputs": [],
   "source": []
  },
  {
   "cell_type": "markdown",
   "id": "7c89b941",
   "metadata": {},
   "source": [
    "### extract records which are having START* location as 'Agnew' and STOP* location as 'Renaissance'\n"
   ]
  },
  {
   "cell_type": "code",
   "execution_count": null,
   "id": "88153a4c",
   "metadata": {},
   "outputs": [],
   "source": []
  },
  {
   "cell_type": "markdown",
   "id": "3047c824",
   "metadata": {},
   "source": [
    "### print Minimum ,Maximum, Mean value for Miles* Column for each START* location "
   ]
  },
  {
   "cell_type": "code",
   "execution_count": null,
   "id": "d7c13499",
   "metadata": {},
   "outputs": [],
   "source": []
  },
  {
   "cell_type": "markdown",
   "id": "350a2528",
   "metadata": {},
   "source": [
    "### Extract the Records which have CATEGORY* column value as 'Bussiness'"
   ]
  },
  {
   "cell_type": "code",
   "execution_count": null,
   "id": "544cd4ce",
   "metadata": {},
   "outputs": [],
   "source": []
  },
  {
   "cell_type": "markdown",
   "id": "f6b659d9",
   "metadata": {},
   "source": [
    "### Extract the Records which have PURPOSE* column value as 'Meeting'"
   ]
  },
  {
   "cell_type": "code",
   "execution_count": null,
   "id": "e4b8db52",
   "metadata": {},
   "outputs": [],
   "source": []
  }
 ],
 "metadata": {
  "kernelspec": {
   "display_name": "Python 3",
   "language": "python",
   "name": "python3"
  },
  "language_info": {
   "codemirror_mode": {
    "name": "ipython",
    "version": 3
   },
   "file_extension": ".py",
   "mimetype": "text/x-python",
   "name": "python",
   "nbconvert_exporter": "python",
   "pygments_lexer": "ipython3",
   "version": "3.9.5"
  }
 },
 "nbformat": 4,
 "nbformat_minor": 5
}
