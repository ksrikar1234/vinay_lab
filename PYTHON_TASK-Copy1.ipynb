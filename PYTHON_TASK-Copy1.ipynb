{
 "cells": [
  {
   "cell_type": "markdown",
   "id": "5c85b85f",
   "metadata": {},
   "source": [
    "## USE PYTHON'S PANDAS AND NUMPY LIBRARIES"
   ]
  },
  {
   "cell_type": "markdown",
   "id": "75fad34c",
   "metadata": {},
   "source": [
    "### Write the code to import data"
   ]
  },
  {
   "cell_type": "code",
   "execution_count": 2,
   "id": "1d9130f0",
   "metadata": {},
   "outputs": [
    {
     "ename": "FileNotFoundError",
     "evalue": "[Errno 2] No such file or directory: 'Uber Drives 2016.csv'",
     "output_type": "error",
     "traceback": [
      "\u001b[0;31m---------------------------------------------------------------------------\u001b[0m",
      "\u001b[0;31mFileNotFoundError\u001b[0m                         Traceback (most recent call last)",
      "\u001b[0;32m<ipython-input-2-e8fc4b44b487>\u001b[0m in \u001b[0;36m<module>\u001b[0;34m\u001b[0m\n\u001b[1;32m      1\u001b[0m \u001b[0;32mimport\u001b[0m \u001b[0mpandas\u001b[0m \u001b[0;32mas\u001b[0m \u001b[0mpd\u001b[0m\u001b[0;34m\u001b[0m\u001b[0;34m\u001b[0m\u001b[0m\n\u001b[0;32m----> 2\u001b[0;31m \u001b[0mdata\u001b[0m \u001b[0;34m=\u001b[0m \u001b[0mpd\u001b[0m\u001b[0;34m.\u001b[0m\u001b[0mread_csv\u001b[0m\u001b[0;34m(\u001b[0m\u001b[0;34m'Uber Drives 2016.csv'\u001b[0m\u001b[0;34m)\u001b[0m\u001b[0;34m\u001b[0m\u001b[0;34m\u001b[0m\u001b[0m\n\u001b[0m",
      "\u001b[0;32m~/.local/lib/python3.8/site-packages/pandas/io/parsers.py\u001b[0m in \u001b[0;36mread_csv\u001b[0;34m(filepath_or_buffer, sep, delimiter, header, names, index_col, usecols, squeeze, prefix, mangle_dupe_cols, dtype, engine, converters, true_values, false_values, skipinitialspace, skiprows, skipfooter, nrows, na_values, keep_default_na, na_filter, verbose, skip_blank_lines, parse_dates, infer_datetime_format, keep_date_col, date_parser, dayfirst, cache_dates, iterator, chunksize, compression, thousands, decimal, lineterminator, quotechar, quoting, doublequote, escapechar, comment, encoding, dialect, error_bad_lines, warn_bad_lines, delim_whitespace, low_memory, memory_map, float_precision)\u001b[0m\n\u001b[1;32m    686\u001b[0m     )\n\u001b[1;32m    687\u001b[0m \u001b[0;34m\u001b[0m\u001b[0m\n\u001b[0;32m--> 688\u001b[0;31m     \u001b[0;32mreturn\u001b[0m \u001b[0m_read\u001b[0m\u001b[0;34m(\u001b[0m\u001b[0mfilepath_or_buffer\u001b[0m\u001b[0;34m,\u001b[0m \u001b[0mkwds\u001b[0m\u001b[0;34m)\u001b[0m\u001b[0;34m\u001b[0m\u001b[0;34m\u001b[0m\u001b[0m\n\u001b[0m\u001b[1;32m    689\u001b[0m \u001b[0;34m\u001b[0m\u001b[0m\n\u001b[1;32m    690\u001b[0m \u001b[0;34m\u001b[0m\u001b[0m\n",
      "\u001b[0;32m~/.local/lib/python3.8/site-packages/pandas/io/parsers.py\u001b[0m in \u001b[0;36m_read\u001b[0;34m(filepath_or_buffer, kwds)\u001b[0m\n\u001b[1;32m    452\u001b[0m \u001b[0;34m\u001b[0m\u001b[0m\n\u001b[1;32m    453\u001b[0m     \u001b[0;31m# Create the parser.\u001b[0m\u001b[0;34m\u001b[0m\u001b[0;34m\u001b[0m\u001b[0;34m\u001b[0m\u001b[0m\n\u001b[0;32m--> 454\u001b[0;31m     \u001b[0mparser\u001b[0m \u001b[0;34m=\u001b[0m \u001b[0mTextFileReader\u001b[0m\u001b[0;34m(\u001b[0m\u001b[0mfp_or_buf\u001b[0m\u001b[0;34m,\u001b[0m \u001b[0;34m**\u001b[0m\u001b[0mkwds\u001b[0m\u001b[0;34m)\u001b[0m\u001b[0;34m\u001b[0m\u001b[0;34m\u001b[0m\u001b[0m\n\u001b[0m\u001b[1;32m    455\u001b[0m \u001b[0;34m\u001b[0m\u001b[0m\n\u001b[1;32m    456\u001b[0m     \u001b[0;32mif\u001b[0m \u001b[0mchunksize\u001b[0m \u001b[0;32mor\u001b[0m \u001b[0miterator\u001b[0m\u001b[0;34m:\u001b[0m\u001b[0;34m\u001b[0m\u001b[0;34m\u001b[0m\u001b[0m\n",
      "\u001b[0;32m~/.local/lib/python3.8/site-packages/pandas/io/parsers.py\u001b[0m in \u001b[0;36m__init__\u001b[0;34m(self, f, engine, **kwds)\u001b[0m\n\u001b[1;32m    946\u001b[0m             \u001b[0mself\u001b[0m\u001b[0;34m.\u001b[0m\u001b[0moptions\u001b[0m\u001b[0;34m[\u001b[0m\u001b[0;34m\"has_index_names\"\u001b[0m\u001b[0;34m]\u001b[0m \u001b[0;34m=\u001b[0m \u001b[0mkwds\u001b[0m\u001b[0;34m[\u001b[0m\u001b[0;34m\"has_index_names\"\u001b[0m\u001b[0;34m]\u001b[0m\u001b[0;34m\u001b[0m\u001b[0;34m\u001b[0m\u001b[0m\n\u001b[1;32m    947\u001b[0m \u001b[0;34m\u001b[0m\u001b[0m\n\u001b[0;32m--> 948\u001b[0;31m         \u001b[0mself\u001b[0m\u001b[0;34m.\u001b[0m\u001b[0m_make_engine\u001b[0m\u001b[0;34m(\u001b[0m\u001b[0mself\u001b[0m\u001b[0;34m.\u001b[0m\u001b[0mengine\u001b[0m\u001b[0;34m)\u001b[0m\u001b[0;34m\u001b[0m\u001b[0;34m\u001b[0m\u001b[0m\n\u001b[0m\u001b[1;32m    949\u001b[0m \u001b[0;34m\u001b[0m\u001b[0m\n\u001b[1;32m    950\u001b[0m     \u001b[0;32mdef\u001b[0m \u001b[0mclose\u001b[0m\u001b[0;34m(\u001b[0m\u001b[0mself\u001b[0m\u001b[0;34m)\u001b[0m\u001b[0;34m:\u001b[0m\u001b[0;34m\u001b[0m\u001b[0;34m\u001b[0m\u001b[0m\n",
      "\u001b[0;32m~/.local/lib/python3.8/site-packages/pandas/io/parsers.py\u001b[0m in \u001b[0;36m_make_engine\u001b[0;34m(self, engine)\u001b[0m\n\u001b[1;32m   1178\u001b[0m     \u001b[0;32mdef\u001b[0m \u001b[0m_make_engine\u001b[0m\u001b[0;34m(\u001b[0m\u001b[0mself\u001b[0m\u001b[0;34m,\u001b[0m \u001b[0mengine\u001b[0m\u001b[0;34m=\u001b[0m\u001b[0;34m\"c\"\u001b[0m\u001b[0;34m)\u001b[0m\u001b[0;34m:\u001b[0m\u001b[0;34m\u001b[0m\u001b[0;34m\u001b[0m\u001b[0m\n\u001b[1;32m   1179\u001b[0m         \u001b[0;32mif\u001b[0m \u001b[0mengine\u001b[0m \u001b[0;34m==\u001b[0m \u001b[0;34m\"c\"\u001b[0m\u001b[0;34m:\u001b[0m\u001b[0;34m\u001b[0m\u001b[0;34m\u001b[0m\u001b[0m\n\u001b[0;32m-> 1180\u001b[0;31m             \u001b[0mself\u001b[0m\u001b[0;34m.\u001b[0m\u001b[0m_engine\u001b[0m \u001b[0;34m=\u001b[0m \u001b[0mCParserWrapper\u001b[0m\u001b[0;34m(\u001b[0m\u001b[0mself\u001b[0m\u001b[0;34m.\u001b[0m\u001b[0mf\u001b[0m\u001b[0;34m,\u001b[0m \u001b[0;34m**\u001b[0m\u001b[0mself\u001b[0m\u001b[0;34m.\u001b[0m\u001b[0moptions\u001b[0m\u001b[0;34m)\u001b[0m\u001b[0;34m\u001b[0m\u001b[0;34m\u001b[0m\u001b[0m\n\u001b[0m\u001b[1;32m   1181\u001b[0m         \u001b[0;32melse\u001b[0m\u001b[0;34m:\u001b[0m\u001b[0;34m\u001b[0m\u001b[0;34m\u001b[0m\u001b[0m\n\u001b[1;32m   1182\u001b[0m             \u001b[0;32mif\u001b[0m \u001b[0mengine\u001b[0m \u001b[0;34m==\u001b[0m \u001b[0;34m\"python\"\u001b[0m\u001b[0;34m:\u001b[0m\u001b[0;34m\u001b[0m\u001b[0;34m\u001b[0m\u001b[0m\n",
      "\u001b[0;32m~/.local/lib/python3.8/site-packages/pandas/io/parsers.py\u001b[0m in \u001b[0;36m__init__\u001b[0;34m(self, src, **kwds)\u001b[0m\n\u001b[1;32m   2008\u001b[0m         \u001b[0mkwds\u001b[0m\u001b[0;34m[\u001b[0m\u001b[0;34m\"usecols\"\u001b[0m\u001b[0;34m]\u001b[0m \u001b[0;34m=\u001b[0m \u001b[0mself\u001b[0m\u001b[0;34m.\u001b[0m\u001b[0musecols\u001b[0m\u001b[0;34m\u001b[0m\u001b[0;34m\u001b[0m\u001b[0m\n\u001b[1;32m   2009\u001b[0m \u001b[0;34m\u001b[0m\u001b[0m\n\u001b[0;32m-> 2010\u001b[0;31m         \u001b[0mself\u001b[0m\u001b[0;34m.\u001b[0m\u001b[0m_reader\u001b[0m \u001b[0;34m=\u001b[0m \u001b[0mparsers\u001b[0m\u001b[0;34m.\u001b[0m\u001b[0mTextReader\u001b[0m\u001b[0;34m(\u001b[0m\u001b[0msrc\u001b[0m\u001b[0;34m,\u001b[0m \u001b[0;34m**\u001b[0m\u001b[0mkwds\u001b[0m\u001b[0;34m)\u001b[0m\u001b[0;34m\u001b[0m\u001b[0;34m\u001b[0m\u001b[0m\n\u001b[0m\u001b[1;32m   2011\u001b[0m         \u001b[0mself\u001b[0m\u001b[0;34m.\u001b[0m\u001b[0munnamed_cols\u001b[0m \u001b[0;34m=\u001b[0m \u001b[0mself\u001b[0m\u001b[0;34m.\u001b[0m\u001b[0m_reader\u001b[0m\u001b[0;34m.\u001b[0m\u001b[0munnamed_cols\u001b[0m\u001b[0;34m\u001b[0m\u001b[0;34m\u001b[0m\u001b[0m\n\u001b[1;32m   2012\u001b[0m \u001b[0;34m\u001b[0m\u001b[0m\n",
      "\u001b[0;32mpandas/_libs/parsers.pyx\u001b[0m in \u001b[0;36mpandas._libs.parsers.TextReader.__cinit__\u001b[0;34m()\u001b[0m\n",
      "\u001b[0;32mpandas/_libs/parsers.pyx\u001b[0m in \u001b[0;36mpandas._libs.parsers.TextReader._setup_parser_source\u001b[0;34m()\u001b[0m\n",
      "\u001b[0;31mFileNotFoundError\u001b[0m: [Errno 2] No such file or directory: 'Uber Drives 2016.csv'"
     ]
    }
   ],
   "source": [
    "import pandas as pd\n",
    "data = pd.read_csv('Uber Drives 2016.csv')"
   ]
  },
  {
   "cell_type": "code",
   "execution_count": null,
   "id": "fa2f5488",
   "metadata": {},
   "outputs": [],
   "source": []
  },
  {
   "cell_type": "markdown",
   "id": "7589faf9",
   "metadata": {},
   "source": [
    "### List Out all columns of dataset"
   ]
  },
  {
   "cell_type": "code",
   "execution_count": null,
   "id": "de645937",
   "metadata": {},
   "outputs": [],
   "source": [
    "for colu in data.columns:\n",
    "    print(colu)"
   ]
  },
  {
   "cell_type": "markdown",
   "id": "71cd5559",
   "metadata": {},
   "source": [
    "### Print shape of dataset"
   ]
  },
  {
   "cell_type": "code",
   "execution_count": null,
   "id": "531d0cf4",
   "metadata": {},
   "outputs": [],
   "source": [
    "shape = data.shape\n",
    "print(shape)  \n"
   ]
  },
  {
   "cell_type": "markdown",
   "id": "44801164",
   "metadata": {},
   "source": [
    "### Print  Number of Null values in each input variable"
   ]
  },
  {
   "cell_type": "code",
   "execution_count": null,
   "id": "0eabef91",
   "metadata": {},
   "outputs": [],
   "source": []
  },
  {
   "cell_type": "markdown",
   "id": "f974207b",
   "metadata": {},
   "source": [
    "### Convert Date-time values of Start_date and end_date to date-time format of pandas"
   ]
  },
  {
   "cell_type": "code",
   "execution_count": null,
   "id": "ddb40062",
   "metadata": {},
   "outputs": [],
   "source": []
  },
  {
   "cell_type": "markdown",
   "id": "d463b1e3",
   "metadata": {},
   "source": [
    "### Select START*,STOP*,MILES* Columns"
   ]
  },
  {
   "cell_type": "code",
   "execution_count": null,
   "id": "652ab829",
   "metadata": {},
   "outputs": [],
   "source": [
    "start = data['START'].tolist()\n",
    "stop = data['STOP'].tolist()\n",
    "miles = data['MILES'].tolist()"
   ]
  },
  {
   "cell_type": "markdown",
   "id": "73011f71",
   "metadata": {},
   "source": [
    "### Select START* ,STOP* Locations which have distance above 60 Miles"
   ]
  },
  {
   "cell_type": "code",
   "execution_count": null,
   "id": "9749676a",
   "metadata": {},
   "outputs": [],
   "source": [
    "record_idx = list()\n",
    "miles = data['MILES*'].tolist()\n",
    "   for i in miles:\n",
    "        if (int(i) >= 60):\n",
    "              record.append(purpose.index(i)\n",
    "print(record_idx)   "
   ]
  },
  {
   "cell_type": "markdown",
   "id": "d745b591",
   "metadata": {},
   "source": [
    "### Select the record which is having start location as NewYork"
   ]
  },
  {
   "cell_type": "code",
   "execution_count": null,
   "id": "0b971d4c",
   "metadata": {},
   "outputs": [],
   "source": [
    "record_idx = list()\n",
    "start = data['START*'].tolist()\n",
    "   for i in start:\n",
    "        if ( i == 'New York'):\n",
    "              record.append(purpose.index(i)\n",
    "print(record_idx) "
   ]
  },
  {
   "cell_type": "markdown",
   "id": "e98c1cd7",
   "metadata": {},
   "source": [
    "### Select the records which have Miles value above 10 and Start  location as 'cary' or'Morrisville'"
   ]
  },
  {
   "cell_type": "code",
   "execution_count": null,
   "id": "23a4d10c",
   "metadata": {},
   "outputs": [],
   "source": [
    "record_idx = list()\n",
    "start = data['START*'].tolist()\n",
    "   for i in start:\n",
    "        if ( i == 'cary' or i = 'Morrisville'):\n",
    "                record.append(purpose.index(i)\n",
    "print(record_idx) "
   ]
  },
  {
   "cell_type": "markdown",
   "id": "054008e9",
   "metadata": {},
   "source": [
    "### Sort dataset based on Miles values"
   ]
  },
  {
   "cell_type": "code",
   "execution_count": null,
   "id": "31f29714",
   "metadata": {},
   "outputs": [],
   "source": []
  },
  {
   "cell_type": "markdown",
   "id": "ebb66cc6",
   "metadata": {},
   "source": [
    "### Create a new column which takes values 'shorttrip' for records having Miles value less than 10 and 'LongTrip' for records having Miles value greater than 50 and 'MediumTrip' for records having miles value greater than 60"
   ]
  },
  {
   "cell_type": "code",
   "execution_count": null,
   "id": "ba998a69",
   "metadata": {},
   "outputs": [],
   "source": []
  },
  {
   "cell_type": "markdown",
   "id": "7c89b941",
   "metadata": {},
   "source": [
    "### extract records which are having START* location as 'Agnew' and STOP* location as 'Renaissance'\n"
   ]
  },
  {
   "cell_type": "code",
   "execution_count": null,
   "id": "88153a4c",
   "metadata": {},
   "outputs": [],
   "source": []
  },
  {
   "cell_type": "markdown",
   "id": "3047c824",
   "metadata": {},
   "source": [
    "### print Minimum ,Maximum, Mean value for Miles* Column for each START* location "
   ]
  },
  {
   "cell_type": "code",
   "execution_count": null,
   "id": "d7c13499",
   "metadata": {},
   "outputs": [],
   "source": []
  },
  {
   "cell_type": "markdown",
   "id": "350a2528",
   "metadata": {},
   "source": [
    "### Extract the Records which have CATEGORY* column value as 'Bussiness'"
   ]
  },
  {
   "cell_type": "code",
   "execution_count": null,
   "id": "544cd4ce",
   "metadata": {},
   "outputs": [],
   "source": [
    "record_idx = list()\n",
    "purpose = data['CATEGORY*\"].tolist()\n",
    "   for i in purpose:\n",
    "        if (i == 'Bussiness'):\n",
    "              record_idx.append(purpose.index(i))\n",
    "                             \n",
    "                             \n",
    "print(record_idx)  "
   ]
  },
  {
   "cell_type": "markdown",
   "id": "f6b659d9",
   "metadata": {},
   "source": [
    "### Extract the Records which have PURPOSE* column value as 'Meeting'"
   ]
  },
  {
   "cell_type": "code",
   "execution_count": null,
   "id": "e4b8db52",
   "metadata": {},
   "outputs": [],
   "source": [
    "record_idx = list()\n",
    "purpose = data['PURPOSE*\"].tolist()\n",
    "   for i in purpose:\n",
    "        if (i == 'Meeting'):\n",
    "              record_idx.append(purpose.index(i))\n",
    "print(record_idx)                 "
   ]
  }
 ],
 "metadata": {
  "kernelspec": {
   "display_name": "Python 3",
   "language": "python",
   "name": "python3"
  },
  "language_info": {
   "codemirror_mode": {
    "name": "ipython",
    "version": 3
   },
   "file_extension": ".py",
   "mimetype": "text/x-python",
   "name": "python",
   "nbconvert_exporter": "python",
   "pygments_lexer": "ipython3",
   "version": "3.8.10"
  }
 },
 "nbformat": 4,
 "nbformat_minor": 5
}
